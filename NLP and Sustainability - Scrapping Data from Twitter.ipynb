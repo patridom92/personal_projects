{
 "cells": [
  {
   "cell_type": "markdown",
   "id": "7930c8de",
   "metadata": {},
   "source": [
    "# 1. Scrapping Twitter Data"
   ]
  },
  {
   "cell_type": "code",
   "execution_count": 1,
   "id": "81fbe404",
   "metadata": {},
   "outputs": [],
   "source": [
    "!pip install -q snscrape"
   ]
  },
  {
   "cell_type": "code",
   "execution_count": 2,
   "id": "d23c2221",
   "metadata": {},
   "outputs": [],
   "source": [
    "import os\n",
    "import pandas as pd\n",
    "from datetime import date"
   ]
  },
  {
   "cell_type": "code",
   "execution_count": 25,
   "id": "3488e24b",
   "metadata": {
    "scrolled": true
   },
   "outputs": [
    {
     "name": "stderr",
     "output_type": "stream",
     "text": [
      "Scraping, 100 results so far\n",
      "Scraping, 200 results so far\n",
      "Scraping, 300 results so far\n",
      "Scraping, 400 results so far\n",
      "Scraping, 500 results so far\n",
      "Scraping, 600 results so far\n",
      "Scraping, 700 results so far\n",
      "Scraping, 800 results so far\n",
      "Scraping, 900 results so far\n",
      "Scraping, 1000 results so far\n",
      "Scraping, 1100 results so far\n",
      "Scraping, 1200 results so far\n",
      "Scraping, 1300 results so far\n",
      "Scraping, 1400 results so far\n",
      "Scraping, 1500 results so far\n",
      "Scraping, 1600 results so far\n",
      "Scraping, 1700 results so far\n",
      "Scraping, 1800 results so far\n",
      "Scraping, 1900 results so far\n",
      "Scraping, 2000 results so far\n",
      "Stopped scraping after 2000 results due to --max-results\n"
     ]
    },
    {
     "data": {
      "text/plain": [
       "0"
      ]
     },
     "execution_count": 25,
     "metadata": {},
     "output_type": "execute_result"
    }
   ],
   "source": [
    "os.system(\"snscrape --jsonl --progress --max-results 2000 --since 2018-01-01 twitter-hashtag 'sustainability until:2022-11-01' > sustainable-tweets2022.json\")\n"
   ]
  },
  {
   "cell_type": "code",
   "execution_count": 26,
   "id": "fd5fe3ae",
   "metadata": {},
   "outputs": [
    {
     "name": "stderr",
     "output_type": "stream",
     "text": [
      "Scraping, 100 results so far\n",
      "Scraping, 200 results so far\n",
      "Scraping, 300 results so far\n",
      "Scraping, 400 results so far\n",
      "Scraping, 500 results so far\n",
      "Scraping, 600 results so far\n",
      "Scraping, 700 results so far\n",
      "Scraping, 800 results so far\n",
      "Scraping, 900 results so far\n",
      "Scraping, 1000 results so far\n",
      "Scraping, 1100 results so far\n",
      "Scraping, 1200 results so far\n",
      "Scraping, 1300 results so far\n",
      "Scraping, 1400 results so far\n",
      "Scraping, 1500 results so far\n",
      "Scraping, 1600 results so far\n",
      "Scraping, 1700 results so far\n",
      "Scraping, 1800 results so far\n",
      "Scraping, 1900 results so far\n",
      "Scraping, 2000 results so far\n",
      "Stopped scraping after 2000 results due to --max-results\n"
     ]
    },
    {
     "data": {
      "text/plain": [
       "0"
      ]
     },
     "execution_count": 26,
     "metadata": {},
     "output_type": "execute_result"
    }
   ],
   "source": [
    "os.system(\"snscrape --jsonl --progress --max-results 2000 --since 2018-01-01 twitter-hashtag 'sustainability until:2021-11-01' > sustainable-tweets2021.json\")\n"
   ]
  },
  {
   "cell_type": "code",
   "execution_count": 27,
   "id": "8cbea57f",
   "metadata": {},
   "outputs": [
    {
     "name": "stderr",
     "output_type": "stream",
     "text": [
      "Scraping, 100 results so far\n",
      "Scraping, 200 results so far\n",
      "Scraping, 300 results so far\n",
      "Scraping, 400 results so far\n",
      "Scraping, 500 results so far\n",
      "Scraping, 600 results so far\n",
      "Scraping, 700 results so far\n",
      "Scraping, 800 results so far\n",
      "Scraping, 900 results so far\n",
      "Scraping, 1000 results so far\n",
      "Scraping, 1100 results so far\n",
      "Scraping, 1200 results so far\n",
      "Scraping, 1300 results so far\n",
      "Scraping, 1400 results so far\n",
      "Scraping, 1500 results so far\n",
      "Scraping, 1600 results so far\n",
      "Scraping, 1700 results so far\n",
      "Scraping, 1800 results so far\n",
      "Scraping, 1900 results so far\n",
      "Scraping, 2000 results so far\n",
      "Stopped scraping after 2000 results due to --max-results\n"
     ]
    },
    {
     "data": {
      "text/plain": [
       "0"
      ]
     },
     "execution_count": 27,
     "metadata": {},
     "output_type": "execute_result"
    }
   ],
   "source": [
    "os.system(\"snscrape --jsonl --progress --max-results 2000 --since 2018-01-01 twitter-hashtag 'sustainability until:2020-11-01' > sustainable-tweets2020.json\")\n",
    "\n"
   ]
  },
  {
   "cell_type": "code",
   "execution_count": 28,
   "id": "93138558",
   "metadata": {},
   "outputs": [
    {
     "name": "stderr",
     "output_type": "stream",
     "text": [
      "Scraping, 100 results so far\n",
      "Scraping, 200 results so far\n",
      "Scraping, 300 results so far\n",
      "Scraping, 400 results so far\n",
      "Scraping, 500 results so far\n",
      "Scraping, 600 results so far\n",
      "Scraping, 700 results so far\n",
      "Scraping, 800 results so far\n",
      "Scraping, 900 results so far\n",
      "Scraping, 1000 results so far\n",
      "Scraping, 1100 results so far\n",
      "Scraping, 1200 results so far\n",
      "Scraping, 1300 results so far\n",
      "Scraping, 1400 results so far\n",
      "Scraping, 1500 results so far\n",
      "Scraping, 1600 results so far\n",
      "Scraping, 1700 results so far\n",
      "Scraping, 1800 results so far\n",
      "Scraping, 1900 results so far\n",
      "Scraping, 2000 results so far\n",
      "Stopped scraping after 2000 results due to --max-results\n"
     ]
    },
    {
     "data": {
      "text/plain": [
       "0"
      ]
     },
     "execution_count": 28,
     "metadata": {},
     "output_type": "execute_result"
    }
   ],
   "source": [
    "os.system(\"snscrape --jsonl --progress --max-results 2000 --since 2018-01-01 twitter-hashtag 'sustainability until:2019-11-01' > sustainable-tweets2019.json\")\n",
    "\n",
    "\n"
   ]
  },
  {
   "cell_type": "code",
   "execution_count": 29,
   "id": "07cdffca",
   "metadata": {},
   "outputs": [
    {
     "name": "stderr",
     "output_type": "stream",
     "text": [
      "Scraping, 100 results so far\n",
      "Scraping, 200 results so far\n",
      "Scraping, 300 results so far\n",
      "Scraping, 400 results so far\n",
      "Scraping, 500 results so far\n",
      "Scraping, 600 results so far\n",
      "Scraping, 700 results so far\n",
      "Scraping, 800 results so far\n",
      "Scraping, 900 results so far\n",
      "Scraping, 1000 results so far\n",
      "Scraping, 1100 results so far\n",
      "Scraping, 1200 results so far\n",
      "Scraping, 1300 results so far\n",
      "Scraping, 1400 results so far\n",
      "Scraping, 1500 results so far\n",
      "Scraping, 1600 results so far\n",
      "Scraping, 1700 results so far\n",
      "Scraping, 1800 results so far\n",
      "Scraping, 1900 results so far\n",
      "Scraping, 2000 results so far\n",
      "Stopped scraping after 2000 results due to --max-results\n"
     ]
    },
    {
     "data": {
      "text/plain": [
       "0"
      ]
     },
     "execution_count": 29,
     "metadata": {},
     "output_type": "execute_result"
    }
   ],
   "source": [
    "os.system(\"snscrape --jsonl --progress --max-results 2000 --since 2018-01-01 twitter-hashtag 'sustainability until:2018-11-01' > sustainable-tweets2018.json\")\n",
    "\n",
    "\n"
   ]
  },
  {
   "cell_type": "code",
   "execution_count": 30,
   "id": "b5b3adde",
   "metadata": {},
   "outputs": [],
   "source": [
    "# Reads the json generated from the CLI commands above and creates a pandas dataframe\n",
    "tweets_df2022 = pd.read_json('sustainable-tweets2022.json', lines=True)"
   ]
  },
  {
   "cell_type": "code",
   "execution_count": 31,
   "id": "7eed2f5a",
   "metadata": {},
   "outputs": [],
   "source": [
    "tweets_df2021 = pd.read_json('sustainable-tweets2021.json', lines=True)"
   ]
  },
  {
   "cell_type": "code",
   "execution_count": 32,
   "id": "ea679e33",
   "metadata": {},
   "outputs": [],
   "source": [
    "tweets_df2020 = pd.read_json('sustainable-tweets2020.json', lines=True)"
   ]
  },
  {
   "cell_type": "code",
   "execution_count": 33,
   "id": "b1b32024",
   "metadata": {},
   "outputs": [],
   "source": [
    "tweets_df2019 = pd.read_json('sustainable-tweets2019.json', lines=True)"
   ]
  },
  {
   "cell_type": "code",
   "execution_count": 34,
   "id": "1911cde2",
   "metadata": {},
   "outputs": [],
   "source": [
    "tweets_df2018 = pd.read_json('sustainable-tweets2018.json', lines=True)"
   ]
  },
  {
   "cell_type": "code",
   "execution_count": null,
   "id": "81c58edd",
   "metadata": {},
   "outputs": [],
   "source": [
    "# Saving all the dataframes"
   ]
  },
  {
   "cell_type": "code",
   "execution_count": 35,
   "id": "bed828f7",
   "metadata": {},
   "outputs": [],
   "source": [
    "tweets_df2022.to_csv('sustainability_tweets2022.csv')"
   ]
  },
  {
   "cell_type": "code",
   "execution_count": 36,
   "id": "88212ab2",
   "metadata": {},
   "outputs": [],
   "source": [
    "tweets_df2021.to_csv('sustainability_tweets2021.csv')"
   ]
  },
  {
   "cell_type": "code",
   "execution_count": 37,
   "id": "80002868",
   "metadata": {},
   "outputs": [],
   "source": [
    "tweets_df2020.to_csv('sustainability_tweets2020.csv')"
   ]
  },
  {
   "cell_type": "code",
   "execution_count": 38,
   "id": "07354eea",
   "metadata": {},
   "outputs": [],
   "source": [
    "tweets_df2019.to_csv('sustainability_tweets2019.csv')"
   ]
  },
  {
   "cell_type": "code",
   "execution_count": 39,
   "id": "590df012",
   "metadata": {},
   "outputs": [],
   "source": [
    "tweets_df2018.to_csv('sustainability_tweets2018.csv')"
   ]
  },
  {
   "cell_type": "code",
   "execution_count": null,
   "id": "861e6d94",
   "metadata": {},
   "outputs": [],
   "source": [
    "# Merging all the dataframes "
   ]
  },
  {
   "cell_type": "code",
   "execution_count": 40,
   "id": "0c35b38d",
   "metadata": {},
   "outputs": [
    {
     "name": "stdout",
     "output_type": "stream",
     "text": [
      "      Unnamed: 0                           _type  \\\n",
      "0              0  snscrape.modules.twitter.Tweet   \n",
      "1              1  snscrape.modules.twitter.Tweet   \n",
      "2              2  snscrape.modules.twitter.Tweet   \n",
      "3              3  snscrape.modules.twitter.Tweet   \n",
      "4              4  snscrape.modules.twitter.Tweet   \n",
      "...          ...                             ...   \n",
      "9995        1995  snscrape.modules.twitter.Tweet   \n",
      "9996        1996  snscrape.modules.twitter.Tweet   \n",
      "9997        1997  snscrape.modules.twitter.Tweet   \n",
      "9998        1998  snscrape.modules.twitter.Tweet   \n",
      "9999        1999  snscrape.modules.twitter.Tweet   \n",
      "\n",
      "                                                    url  \\\n",
      "0     https://twitter.com/natasham4/status/158723225...   \n",
      "1     https://twitter.com/all_ecofriendly/status/158...   \n",
      "2     https://twitter.com/baxterkb/status/1587229272...   \n",
      "3     https://twitter.com/SvenVanZanten01/status/158...   \n",
      "4     https://twitter.com/Ing_Martin_V/status/158722...   \n",
      "...                                                 ...   \n",
      "9995  https://twitter.com/BethanyHarbour/status/1057...   \n",
      "9996  https://twitter.com/NirajMistry9/status/105737...   \n",
      "9997  https://twitter.com/enufCanada/status/10573786...   \n",
      "9998  https://twitter.com/ckohtala/status/1057378589...   \n",
      "9999  https://twitter.com/GM/status/1057378495670689793   \n",
      "\n",
      "                           date  \\\n",
      "0     2022-10-31 23:57:14+00:00   \n",
      "1     2022-10-31 23:56:28+00:00   \n",
      "2     2022-10-31 23:45:22+00:00   \n",
      "3     2022-10-31 23:45:02+00:00   \n",
      "4     2022-10-31 23:44:37+00:00   \n",
      "...                         ...   \n",
      "9995  2018-10-30 21:10:07+00:00   \n",
      "9996  2018-10-30 21:09:25+00:00   \n",
      "9997  2018-10-30 21:08:04+00:00   \n",
      "9998  2018-10-30 21:07:55+00:00   \n",
      "9999  2018-10-30 21:07:33+00:00   \n",
      "\n",
      "                                                content  \\\n",
      "0     Renewable Natural Gas is integral to UPS’s str...   \n",
      "1     🤔 🤔🤔 Curious about eco-friendly products?  🌿🐼🐾...   \n",
      "2     Most data center operators aren’t tracking key...   \n",
      "3     Sven van Zanten Shares.\\n\\n#svenvanzanten #sol...   \n",
      "4     Recycling key to solar sustainability https://...   \n",
      "...                                                 ...   \n",
      "9995  Small changes to your daily routine can make a...   \n",
      "9996  I keep an eye out on the demand for BIM in ten...   \n",
      "9997  Applicable everywhere; any university; any ins...   \n",
      "9998  LeNS World Distributed Conference: Designing #...   \n",
      "9999  Our Arlington Assembly Plant has earned a spot...   \n",
      "\n",
      "                                        renderedContent                   id  \\\n",
      "0     Renewable Natural Gas is integral to UPS’s str...  1587232258800467973   \n",
      "1     🤔 🤔🤔 Curious about eco-friendly products?  🌿🐼🐾...  1587232064507715585   \n",
      "2     Most data center operators aren’t tracking key...  1587229272179355648   \n",
      "3     Sven van Zanten Shares.\\n\\n#svenvanzanten #sol...  1587229190641913857   \n",
      "4     Recycling key to solar sustainability pv-magaz...  1587229083133517826   \n",
      "...                                                 ...                  ...   \n",
      "9995  Small changes to your daily routine can make a...  1057379144063954945   \n",
      "9996  I keep an eye out on the demand for BIM in ten...  1057378966464532480   \n",
      "9997  Applicable everywhere; any university; any ins...  1057378626700750858   \n",
      "9998  LeNS World Distributed Conference: Designing #...  1057378589518245888   \n",
      "9999  Our Arlington Assembly Plant has earned a spot...  1057378495670689793   \n",
      "\n",
      "                                                   user  replyCount  \\\n",
      "0     {'_type': 'snscrape.modules.twitter.User', 'us...           0   \n",
      "1     {'_type': 'snscrape.modules.twitter.User', 'us...           1   \n",
      "2     {'_type': 'snscrape.modules.twitter.User', 'us...           0   \n",
      "3     {'_type': 'snscrape.modules.twitter.User', 'us...           0   \n",
      "4     {'_type': 'snscrape.modules.twitter.User', 'us...           0   \n",
      "...                                                 ...         ...   \n",
      "9995  {'_type': 'snscrape.modules.twitter.User', 'us...           1   \n",
      "9996  {'_type': 'snscrape.modules.twitter.User', 'us...           0   \n",
      "9997  {'_type': 'snscrape.modules.twitter.User', 'us...           0   \n",
      "9998  {'_type': 'snscrape.modules.twitter.User', 'us...           1   \n",
      "9999  {'_type': 'snscrape.modules.twitter.User', 'us...           2   \n",
      "\n",
      "      retweetCount  ...                                              media  \\\n",
      "0                0  ...  [{'_type': 'snscrape.modules.twitter.Photo', '...   \n",
      "1                1  ...  [{'_type': 'snscrape.modules.twitter.Photo', '...   \n",
      "2                0  ...                                                NaN   \n",
      "3                0  ...                                                NaN   \n",
      "4                1  ...                                                NaN   \n",
      "...            ...  ...                                                ...   \n",
      "9995             0  ...                                                NaN   \n",
      "9996             0  ...                                                NaN   \n",
      "9997             3  ...                                                NaN   \n",
      "9998             1  ...                                                NaN   \n",
      "9999            14  ...                                                NaN   \n",
      "\n",
      "      retweetedTweet                                        quotedTweet  \\\n",
      "0                NaN                                                NaN   \n",
      "1                NaN                                                NaN   \n",
      "2                NaN                                                NaN   \n",
      "3                NaN  {'_type': 'snscrape.modules.twitter.Tweet', 'u...   \n",
      "4                NaN                                                NaN   \n",
      "...              ...                                                ...   \n",
      "9995             NaN                                                NaN   \n",
      "9996             NaN  {'_type': 'snscrape.modules.twitter.Tweet', 'u...   \n",
      "9997             NaN  {'_type': 'snscrape.modules.twitter.Tweet', 'u...   \n",
      "9998             NaN                                                NaN   \n",
      "9999             NaN                                                NaN   \n",
      "\n",
      "     inReplyToTweetId inReplyToUser  \\\n",
      "0                 NaN           NaN   \n",
      "1                 NaN           NaN   \n",
      "2                 NaN           NaN   \n",
      "3                 NaN           NaN   \n",
      "4                 NaN           NaN   \n",
      "...               ...           ...   \n",
      "9995              NaN           NaN   \n",
      "9996              NaN           NaN   \n",
      "9997              NaN           NaN   \n",
      "9998              NaN           NaN   \n",
      "9999              NaN           NaN   \n",
      "\n",
      "                                         mentionedUsers coordinates place  \\\n",
      "0                                                   NaN         NaN   NaN   \n",
      "1                                                   NaN         NaN   NaN   \n",
      "2                                                   NaN         NaN   NaN   \n",
      "3                                                   NaN         NaN   NaN   \n",
      "4     [{'_type': 'snscrape.modules.twitter.User', 'u...         NaN   NaN   \n",
      "...                                                 ...         ...   ...   \n",
      "9995                                                NaN         NaN   NaN   \n",
      "9996                                                NaN         NaN   NaN   \n",
      "9997                                                NaN         NaN   NaN   \n",
      "9998                                                NaN         NaN   NaN   \n",
      "9999  [{'_type': 'snscrape.modules.twitter.User', 'u...         NaN   NaN   \n",
      "\n",
      "                                               hashtags cashtags  \n",
      "0                           ['sustainability', 'susty']      NaN  \n",
      "1     ['plasticfree', 'savetheplanet', 'sustainabili...      NaN  \n",
      "2                   ['sustainability', 'ClimateCrisis']      NaN  \n",
      "3     ['svenvanzanten', 'solar', 'renewables', 'clim...      NaN  \n",
      "4     ['Energy', 'GreenTech', 'CleanEnergy', 'Energy...      NaN  \n",
      "...                                                 ...      ...  \n",
      "9995  ['sustainability', 'sustainableliving', 'sayno...      NaN  \n",
      "9996              ['buildingcontrol', 'Sustainability']      NaN  \n",
      "9997  ['sustainability', 'LetsGoMontreal', 'NextGenL...      NaN  \n",
      "9998  ['Sustainability', 'India', 'Bangalore', 'desi...      NaN  \n",
      "9999                                 ['Sustainability']      NaN  \n",
      "\n",
      "[10000 rows x 29 columns]\n"
     ]
    }
   ],
   "source": [
    "df = pd.concat(map(pd.read_csv, ['sustainability_tweets2022.csv', 'sustainability_tweets2021.csv', 'sustainability_tweets2020.csv', 'sustainability_tweets2019.csv', 'sustainability_tweets2018.csv' ]), ignore_index=True)\n"
   ]
  },
  {
   "cell_type": "code",
   "execution_count": 42,
   "id": "4ce89859",
   "metadata": {
    "scrolled": true
   },
   "outputs": [
    {
     "name": "stdout",
     "output_type": "stream",
     "text": [
      "<class 'pandas.core.frame.DataFrame'>\n",
      "RangeIndex: 10000 entries, 0 to 9999\n",
      "Data columns (total 29 columns):\n",
      " #   Column            Non-Null Count  Dtype  \n",
      "---  ------            --------------  -----  \n",
      " 0   Unnamed: 0        10000 non-null  int64  \n",
      " 1   _type             10000 non-null  object \n",
      " 2   url               10000 non-null  object \n",
      " 3   date              10000 non-null  object \n",
      " 4   content           10000 non-null  object \n",
      " 5   renderedContent   10000 non-null  object \n",
      " 6   id                10000 non-null  int64  \n",
      " 7   user              10000 non-null  object \n",
      " 8   replyCount        10000 non-null  int64  \n",
      " 9   retweetCount      10000 non-null  int64  \n",
      " 10  likeCount         10000 non-null  int64  \n",
      " 11  quoteCount        10000 non-null  int64  \n",
      " 12  conversationId    10000 non-null  int64  \n",
      " 13  lang              10000 non-null  object \n",
      " 14  source            10000 non-null  object \n",
      " 15  sourceUrl         10000 non-null  object \n",
      " 16  sourceLabel       10000 non-null  object \n",
      " 17  outlinks          7153 non-null   object \n",
      " 18  tcooutlinks       7153 non-null   object \n",
      " 19  media             4749 non-null   object \n",
      " 20  retweetedTweet    0 non-null      float64\n",
      " 21  quotedTweet       869 non-null    object \n",
      " 22  inReplyToTweetId  592 non-null    float64\n",
      " 23  inReplyToUser     592 non-null    object \n",
      " 24  mentionedUsers    3800 non-null   object \n",
      " 25  coordinates       336 non-null    object \n",
      " 26  place             336 non-null    object \n",
      " 27  hashtags          9999 non-null   object \n",
      " 28  cashtags          69 non-null     object \n",
      "dtypes: float64(2), int64(7), object(20)\n",
      "memory usage: 2.2+ MB\n"
     ]
    }
   ],
   "source": [
    "df.info()"
   ]
  },
  {
   "cell_type": "code",
   "execution_count": null,
   "id": "4581d4b6",
   "metadata": {},
   "outputs": [],
   "source": [
    "# Exporting the final dataframe with tweets from 2018 to 2022"
   ]
  },
  {
   "cell_type": "code",
   "execution_count": 43,
   "id": "87eebb5f",
   "metadata": {},
   "outputs": [],
   "source": [
    "df.to_csv('final_sustainability_tweets.csv')"
   ]
  }
 ],
 "metadata": {
  "kernelspec": {
   "display_name": "Python 3 (ipykernel)",
   "language": "python",
   "name": "python3"
  },
  "language_info": {
   "codemirror_mode": {
    "name": "ipython",
    "version": 3
   },
   "file_extension": ".py",
   "mimetype": "text/x-python",
   "name": "python",
   "nbconvert_exporter": "python",
   "pygments_lexer": "ipython3",
   "version": "3.9.12"
  }
 },
 "nbformat": 4,
 "nbformat_minor": 5
}
